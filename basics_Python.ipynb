{
 "cells": [
  {
   "cell_type": "markdown",
   "metadata": {},
   "source": [
    "# Data Types"
   ]
  },
  {
   "cell_type": "markdown",
   "metadata": {},
   "source": [
    "## Variables"
   ]
  },
  {
   "cell_type": "code",
   "execution_count": 1,
   "metadata": {},
   "outputs": [
    {
     "name": "stdout",
     "output_type": "stream",
     "text": [
      "56\n",
      "Bram\n"
     ]
    }
   ],
   "source": [
    "# Assigning Values to Variables\n",
    "\n",
    "x = 56\n",
    "name = \"Bram\"\n",
    "\n",
    "print(x)        #show x variable's value\n",
    "print (name)    #show name variable's value"
   ]
  },
  {
   "cell_type": "code",
   "execution_count": 1,
   "metadata": {},
   "outputs": [
    {
     "name": "stdout",
     "output_type": "stream",
     "text": [
      "30\n",
      "30\n"
     ]
    }
   ],
   "source": [
    "# Multiple Assignment\n",
    "\n",
    "a = b = 30\n",
    "\n",
    "print(a)\n",
    "print(b)"
   ]
  },
  {
   "cell_type": "code",
   "execution_count": 4,
   "metadata": {},
   "outputs": [
    {
     "name": "stdout",
     "output_type": "stream",
     "text": [
      "10\n",
      "25\n",
      "Bram\n"
     ]
    }
   ],
   "source": [
    "# Multiple Assignment 2\n",
    "\n",
    "a, b, name = 10, 25, \"Bram\"\n",
    "\n",
    "print(a)\n",
    "print(b)\n",
    "print(name)"
   ]
  },
  {
   "cell_type": "markdown",
   "metadata": {},
   "source": [
    "## Standard Data Types\n",
    "\n",
    "* Numbers\n",
    "* String\n",
    "* List\n",
    "* Tuple\n",
    "* Dictionary"
   ]
  },
  {
   "cell_type": "code",
   "execution_count": 5,
   "metadata": {},
   "outputs": [
    {
     "name": "stdout",
     "output_type": "stream",
     "text": [
      "5\n",
      "6.9\n",
      "<class 'int'>\n",
      "<class 'float'>\n"
     ]
    }
   ],
   "source": [
    "# Numbers data types\n",
    "# integer and float\n",
    "\n",
    "a = 5\n",
    "b = 6.9\n",
    "\n",
    "print(a)\n",
    "print(b)\n",
    "print(type(a))\n",
    "print(type(b))"
   ]
  },
  {
   "cell_type": "code",
   "execution_count": 6,
   "metadata": {},
   "outputs": [
    {
     "name": "stdout",
     "output_type": "stream",
     "text": [
      "<class 'str'>\n",
      "Hello World\n",
      "l\n",
      "d\n",
      "Hello WorldHello World\n",
      "Hello World 222\n"
     ]
    }
   ],
   "source": [
    "# Strings\n",
    "# we can access string like an array using index\n",
    "\n",
    "sentences = 'Hello World'\n",
    "\n",
    "print(type(sentences))\n",
    "print(sentences)\n",
    "print(sentences[2])\n",
    "print(sentences[-1])\n",
    "print(sentences*2)\n",
    "print(sentences + ' 222')"
   ]
  }
 ],
 "metadata": {
  "kernelspec": {
   "display_name": "Python 3",
   "language": "python",
   "name": "python3"
  },
  "language_info": {
   "codemirror_mode": {
    "name": "ipython",
    "version": 3
   },
   "file_extension": ".py",
   "mimetype": "text/x-python",
   "name": "python",
   "nbconvert_exporter": "python",
   "pygments_lexer": "ipython3",
   "version": "3.11.1"
  }
 },
 "nbformat": 4,
 "nbformat_minor": 2
}
