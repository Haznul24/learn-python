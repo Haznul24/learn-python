{
 "cells": [
  {
   "cell_type": "markdown",
   "metadata": {},
   "source": [
    "# Data Types"
   ]
  },
  {
   "cell_type": "markdown",
   "metadata": {},
   "source": [
    "## Variables"
   ]
  },
  {
   "cell_type": "code",
   "execution_count": 1,
   "metadata": {},
   "outputs": [
    {
     "name": "stdout",
     "output_type": "stream",
     "text": [
      "56\n",
      "Bram\n"
     ]
    }
   ],
   "source": [
    "# Assigning Values to Variables\n",
    "\n",
    "x = 56\n",
    "name = \"Bram\"\n",
    "\n",
    "print(x)        #show x variable's value\n",
    "print (name)    #show name variable's value"
   ]
  },
  {
   "cell_type": "code",
   "execution_count": 1,
   "metadata": {},
   "outputs": [
    {
     "name": "stdout",
     "output_type": "stream",
     "text": [
      "30\n",
      "30\n"
     ]
    }
   ],
   "source": [
    "# Multiple Assignment\n",
    "\n",
    "a = b = 30\n",
    "\n",
    "print(a)\n",
    "print(b)"
   ]
  },
  {
   "cell_type": "code",
   "execution_count": 4,
   "metadata": {},
   "outputs": [
    {
     "name": "stdout",
     "output_type": "stream",
     "text": [
      "10\n",
      "25\n",
      "Bram\n"
     ]
    }
   ],
   "source": [
    "# Multiple Assignment 2\n",
    "\n",
    "a, b, name = 10, 25, \"Bram\"\n",
    "\n",
    "print(a)\n",
    "print(b)\n",
    "print(name)"
   ]
  },
  {
   "cell_type": "markdown",
   "metadata": {},
   "source": [
    "## Standard Data Types\n",
    "\n",
    "* Numbers\n",
    "* String\n",
    "* List\n",
    "* Tuple\n",
    "* Dictionary"
   ]
  },
  {
   "cell_type": "code",
   "execution_count": 5,
   "metadata": {},
   "outputs": [
    {
     "name": "stdout",
     "output_type": "stream",
     "text": [
      "5\n",
      "6.9\n",
      "<class 'int'>\n",
      "<class 'float'>\n"
     ]
    }
   ],
   "source": [
    "# Numbers data types\n",
    "# integer and float\n",
    "\n",
    "a = 5\n",
    "b = 6.9\n",
    "\n",
    "print(a)\n",
    "print(b)\n",
    "print(type(a))\n",
    "print(type(b))"
   ]
  },
  {
   "cell_type": "code",
   "execution_count": 9,
   "metadata": {},
   "outputs": [
    {
     "name": "stdout",
     "output_type": "stream",
     "text": [
      "<class 'str'>\n",
      "Hello World\n",
      "l\n",
      "d\n",
      "Hello WorldHello World\n",
      "Hello World 222\n"
     ]
    }
   ],
   "source": [
    "# Strings\n",
    "# we can access string like an array using index\n",
    "\n",
    "sentences = 'Hello World'\n",
    "\n",
    "print(type(sentences))\n",
    "print(sentences)\n",
    "print(sentences[2])\n",
    "print(sentences[-1])\n",
    "print(sentences*2)\n",
    "print(sentences + ' 222')"
   ]
  },
  {
   "cell_type": "code",
   "execution_count": 14,
   "metadata": {},
   "outputs": [
    {
     "name": "stdout",
     "output_type": "stream",
     "text": [
      "['123', 123, 1.34]\n",
      "222\n",
      "[123, 1.34]\n",
      "['123', 123, 1.34, '234', 2.54, 222]\n",
      "after changes\n",
      "['123', 123, 'eat']\n",
      "['234', 'drink', 2.54, 222, 555]\n"
     ]
    }
   ],
   "source": [
    "# Lists\n",
    "# Collection data ordered and changeable\n",
    "\n",
    "a_list = ['123', 123, 1.34]\n",
    "b_list = ['234', 2.54, 222]\n",
    "\n",
    "print(a_list)\n",
    "print(b_list[2])\n",
    "print(a_list[1:])\n",
    "print(a_list+b_list)\n",
    "\n",
    "# Change or add\n",
    "print(\"after changes\")\n",
    "a_list[2] = \"eat\"           # change value on index 2\n",
    "b_list.append(555)          # add value at the end of list\n",
    "b_list.insert(1, \"drink\")   # add value at spesific index\n",
    "\n",
    "print(a_list)\n",
    "print(b_list)"
   ]
  },
  {
   "cell_type": "code",
   "execution_count": 15,
   "metadata": {},
   "outputs": [
    {
     "name": "stdout",
     "output_type": "stream",
     "text": [
      "('eat', 222, 1.34)\n",
      "1.34\n",
      "('eat', 222, 1.34, 'drink', 333, 3.31)\n"
     ]
    }
   ],
   "source": [
    "# Tuple\n",
    "# Collection data ordered and unchangeable\n",
    "\n",
    "a_tuple = ('eat', 222, 1.34)\n",
    "print(a_tuple)\n",
    "print(a_tuple[2])\n",
    "\n",
    "# Tuple can't be modified\n",
    "# If you want to add value to a tuple, you can change it to list and\n",
    "# add some value the change back to tuple\n",
    "# Or you can add a tuple with a tuple\n",
    "\n",
    "# will return error!\n",
    "# a_tuple[0] = 3\n",
    "# print(a_tuple)\n",
    "\n",
    "b_tuple = ('drink', 333, 3.31)\n",
    "a_tuple += b_tuple\n",
    "print(a_tuple)"
   ]
  },
  {
   "cell_type": "code",
   "execution_count": 21,
   "metadata": {},
   "outputs": [
    {
     "name": "stdout",
     "output_type": "stream",
     "text": [
      "{}\n",
      "{'Jakarta': 'Kerak telor', 'Padang': 'Rendang', 'Makasar': 'Soto Makasar', 'Bontang': 'Gami bawis'}\n",
      "dict_keys(['Jakarta', 'Padang', 'Makasar', 'Bontang'])\n",
      "Kerak telor\n",
      "{'Jakarta': 'Kerak telor', 'Padang': 'Rendang', 'Makasar': 'Soto Makasar', 'Bontang': 'Amplang'}\n"
     ]
    }
   ],
   "source": [
    "# Dictionary\n",
    "# Collection data ordered and changable in format key:value\n",
    "# Can' have two items with same key\n",
    "\n",
    "food = {}\n",
    "\n",
    "print(food)\n",
    "\n",
    "# add value to directory\n",
    "food['Jakarta'] = 'Kerak telor'\n",
    "food['Padang'] = 'Rendang'\n",
    "food['Makasar'] = 'Soto Makasar'\n",
    "food['Bontang'] = 'Gami bawis'\n",
    "\n",
    "print(food)\n",
    "print(food.keys())          # get keys in food\n",
    "print(food['Jakarta'])  \n",
    "\n",
    "# update value\n",
    "food.update({'Bontang': 'Amplang'})\n",
    "print(food)\n"
   ]
  }
 ],
 "metadata": {
  "kernelspec": {
   "display_name": "Python 3",
   "language": "python",
   "name": "python3"
  },
  "language_info": {
   "codemirror_mode": {
    "name": "ipython",
    "version": 3
   },
   "file_extension": ".py",
   "mimetype": "text/x-python",
   "name": "python",
   "nbconvert_exporter": "python",
   "pygments_lexer": "ipython3",
   "version": "3.11.1"
  }
 },
 "nbformat": 4,
 "nbformat_minor": 2
}
