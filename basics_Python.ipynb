{
 "cells": [
  {
   "cell_type": "markdown",
   "metadata": {},
   "source": [
    "# Data Types"
   ]
  },
  {
   "cell_type": "markdown",
   "metadata": {},
   "source": [
    "## Variables"
   ]
  },
  {
   "cell_type": "code",
   "execution_count": 1,
   "metadata": {},
   "outputs": [
    {
     "name": "stdout",
     "output_type": "stream",
     "text": [
      "56\n",
      "Bram\n"
     ]
    }
   ],
   "source": [
    "# Assigning Values to Variables\n",
    "\n",
    "x = 56\n",
    "name = \"Bram\"\n",
    "\n",
    "print(x)        #show x variable's value\n",
    "print (name)    #show name variable's value"
   ]
  },
  {
   "cell_type": "code",
   "execution_count": 1,
   "metadata": {},
   "outputs": [
    {
     "name": "stdout",
     "output_type": "stream",
     "text": [
      "30\n",
      "30\n"
     ]
    }
   ],
   "source": [
    "# Multiple Assignment\n",
    "\n",
    "a = b = 30\n",
    "\n",
    "print(a)\n",
    "print(b)"
   ]
  },
  {
   "cell_type": "code",
   "execution_count": 4,
   "metadata": {},
   "outputs": [
    {
     "name": "stdout",
     "output_type": "stream",
     "text": [
      "10\n",
      "25\n",
      "Bram\n"
     ]
    }
   ],
   "source": [
    "# Multiple Assignment 2\n",
    "\n",
    "a, b, name = 10, 25, \"Bram\"\n",
    "\n",
    "print(a)\n",
    "print(b)\n",
    "print(name)"
   ]
  },
  {
   "cell_type": "markdown",
   "metadata": {},
   "source": [
    "## Standard Data Types\n",
    "\n",
    "* Numbers\n",
    "* String\n",
    "* List\n",
    "* Tuple\n",
    "* Dictionary"
   ]
  },
  {
   "cell_type": "code",
   "execution_count": 3,
   "metadata": {},
   "outputs": [
    {
     "name": "stdout",
     "output_type": "stream",
     "text": [
      "5\n",
      "6.9\n",
      "(5+3j)\n",
      "<class 'int'>\n",
      "<class 'float'>\n",
      "<class 'complex'>\n"
     ]
    }
   ],
   "source": [
    "# Numbers data types\n",
    "# integer, float and complex\n",
    "\n",
    "a = 5           # integer\n",
    "b = 6.9         # float\n",
    "c = 5 + 3j      # complex\n",
    "\n",
    "\n",
    "print(a)\n",
    "print(b)\n",
    "print(c)\n",
    "print(type(a))\n",
    "print(type(b))\n",
    "print(type(c))"
   ]
  },
  {
   "cell_type": "code",
   "execution_count": 4,
   "metadata": {},
   "outputs": [
    {
     "name": "stdout",
     "output_type": "stream",
     "text": [
      "<class 'str'>\n",
      "<class 'str'>\n",
      "Hello World\n",
      "l\n",
      "d\n",
      "Hello WorldHello World\n",
      "Hello World 222\n"
     ]
    }
   ],
   "source": [
    "# Strings\n",
    "# we can access string like an array using index\n",
    "\n",
    "sentences = 'Hello World'\n",
    "kalimat = \"Halo Dunia\"\n",
    "\n",
    "print(type(sentences))\n",
    "print(sentences)\n",
    "print(sentences[2])\n",
    "print(sentences[-1])\n",
    "print(sentences*2)\n",
    "print(sentences + ' 222')"
   ]
  },
  {
   "cell_type": "code",
   "execution_count": 14,
   "metadata": {},
   "outputs": [
    {
     "name": "stdout",
     "output_type": "stream",
     "text": [
      "['123', 123, 1.34]\n",
      "222\n",
      "[123, 1.34]\n",
      "['123', 123, 1.34, '234', 2.54, 222]\n",
      "after changes\n",
      "['123', 123, 'eat']\n",
      "['234', 'drink', 2.54, 222, 555]\n"
     ]
    }
   ],
   "source": [
    "# Lists\n",
    "# Collection data ordered and changeable\n",
    "\n",
    "a_list = ['123', 123, 1.34]\n",
    "b_list = ['234', 2.54, 222]\n",
    "\n",
    "print(a_list)\n",
    "print(b_list[2])\n",
    "print(a_list[1:])\n",
    "print(a_list+b_list)\n",
    "\n",
    "# Change or add\n",
    "print(\"after changes\")\n",
    "a_list[2] = \"eat\"           # change value on index 2\n",
    "b_list.append(555)          # add value at the end of list\n",
    "b_list.insert(1, \"drink\")   # add value at spesific index\n",
    "\n",
    "print(a_list)\n",
    "print(b_list)"
   ]
  },
  {
   "cell_type": "code",
   "execution_count": 15,
   "metadata": {},
   "outputs": [
    {
     "name": "stdout",
     "output_type": "stream",
     "text": [
      "('eat', 222, 1.34)\n",
      "1.34\n",
      "('eat', 222, 1.34, 'drink', 333, 3.31)\n"
     ]
    }
   ],
   "source": [
    "# Tuple\n",
    "# Collection data ordered and unchangeable\n",
    "\n",
    "a_tuple = ('eat', 222, 1.34)\n",
    "print(a_tuple)\n",
    "print(a_tuple[2])\n",
    "\n",
    "# Tuple can't be modified\n",
    "# If you want to add value to a tuple, you can change it to list and\n",
    "# add some value the change back to tuple\n",
    "# Or you can add a tuple with a tuple\n",
    "\n",
    "# will return error!\n",
    "# a_tuple[0] = 3\n",
    "# print(a_tuple)\n",
    "\n",
    "b_tuple = ('drink', 333, 3.31)\n",
    "a_tuple += b_tuple\n",
    "print(a_tuple)"
   ]
  },
  {
   "cell_type": "code",
   "execution_count": 2,
   "metadata": {},
   "outputs": [
    {
     "name": "stdout",
     "output_type": "stream",
     "text": [
      "{}\n",
      "{'Jakarta': 'Kerak telor', 'Padang': 'Rendang', 'Makasar': 'Soto Makasar', 'Bontang': 'Gami bawis'}\n",
      "dict_keys(['Jakarta', 'Padang', 'Makasar', 'Bontang'])\n",
      "Kerak telor\n",
      "after update\n",
      "{'Jakarta': 'Kerak telor', 'Padang': 'Rendang', 'Makasar': 'Soto Makasar', 'Bontang': 'Amplang'}\n",
      "after add\n",
      "{'Jakarta': 'Kerak telor', 'Padang': 'Rendang', 'Makasar': 'Soto Makasar', 'Bontang': 'Amplang', 'Papua': 'Papeda'}\n"
     ]
    }
   ],
   "source": [
    "# Dictionary\n",
    "# Collection data ordered and changable in format key:value\n",
    "# Can' have two items with same key\n",
    "\n",
    "food = {}\n",
    "\n",
    "print(food)\n",
    "\n",
    "# add value to directory\n",
    "food['Jakarta'] = 'Kerak telor'\n",
    "food['Padang'] = 'Rendang'\n",
    "food['Makasar'] = 'Soto Makasar'\n",
    "food['Bontang'] = 'Gami bawis'\n",
    "\n",
    "print(food)\n",
    "print(food.keys())          # get keys in food\n",
    "print(food['Jakarta'])  \n",
    "\n",
    "# update value\n",
    "food.update({'Bontang': 'Amplang'})\n",
    "print(\"after update\")\n",
    "print(food)\n",
    "\n",
    "# add item\n",
    "food['Papua'] = 'Papeda'\n",
    "print(\"after add\")\n",
    "print(food)"
   ]
  },
  {
   "cell_type": "markdown",
   "metadata": {},
   "source": [
    "## Data Type Conversion\n",
    "Sometimes, you may need to perform conversions between the built-in types. To convert between types, you simply use the type-name as a function.\n",
    "\n",
    "There are several built-in functions to perform conversion from one data type to another. These functions return a new object representing the converted value.\n",
    "\n",
    "* int(x [,base]): Converts x to an integer. The base specifies the base if x is a string.\n",
    "* float(x): Converts x to a floating-point number.\n",
    "* complex(real [,imag]) : Creates a complex number.\n",
    "* str(x) : Converts object x to a string representation.\n",
    "* repr(x) : Converts object x to an expression string.\n",
    "* eval(str) Evaluates a string and returns an object.\n",
    "* tuple(s) : Converts s to a tuple.\n",
    "* list(s) : Converts s to a list.\n",
    "* set(s) : Converts s to a set.\n",
    "* dict(d) : Creates a dictionary. d must be a sequence of (key,value) tuples.\n",
    "* frozenset(s) : Converts s to a frozen set.\n",
    "* chr(x) : Converts an integer to a character.\n",
    "* unichr(x) : Converts an integer to a Unicode character.\n",
    "* ord(x) : Converts a single character to its integer value.\n",
    "* hex(x) : Converts an integer to a hexadecimal string.\n",
    "* oct(x) : Converts an integer to an octal string."
   ]
  },
  {
   "cell_type": "markdown",
   "metadata": {},
   "source": [
    "# Operators\n",
    "\n",
    "Python language supports the following types of operators-\n",
    "\n",
    "* Arithmetic Operators\n",
    "* Comparison (Relational) Operators\n",
    "* Assignment Operators\n",
    "* Bitwise Operators (not covered much since this required basic knowledge in binary number)\n",
    "* Logical Operators\n",
    "* Membership Operators\n",
    "* Identity Operators"
   ]
  },
  {
   "cell_type": "code",
   "execution_count": 2,
   "metadata": {},
   "outputs": [
    {
     "name": "stdout",
     "output_type": "stream",
     "text": [
      "9\n",
      "5\n",
      "14\n",
      "3.5\n",
      "1\n",
      "49\n",
      "3\n"
     ]
    }
   ],
   "source": [
    "# Aritmethic Operators\n",
    "# used with numeric values to perform common calculation\n",
    "\n",
    "a = 7\n",
    "b = 2\n",
    "\n",
    "# addition (+)\n",
    "print(a+b)\n",
    "\n",
    "# substraction (-)\n",
    "print (a-b)\n",
    "\n",
    "# multiplication (*)\n",
    "print(a * b)\n",
    "\n",
    "# division (/)\n",
    "print(a/b)\n",
    "\n",
    "# floor division (//)\n",
    "print(a//b)\n",
    "\n",
    "# modulus (%)\n",
    "print(a%b)\n",
    "\n",
    "# exponent (**)\n",
    "print(a**b)"
   ]
  },
  {
   "cell_type": "code",
   "execution_count": 6,
   "metadata": {},
   "outputs": [
    {
     "name": "stdout",
     "output_type": "stream",
     "text": [
      "False\n",
      "False\n",
      "True\n",
      "False\n",
      "True\n",
      "False\n"
     ]
    }
   ],
   "source": [
    "# Comparison (Relational) Operators\n",
    "# used to compare two values\n",
    "\n",
    "# equals to (==)\n",
    "print(3==2)\n",
    "\n",
    "# not equals to (!=)\n",
    "print(2!=2)\n",
    "\n",
    "# greater than (>)\n",
    "print(4>3)\n",
    "\n",
    "# less than (<)\n",
    "print(2<2)\n",
    "\n",
    "# greater than equals to (>=)\n",
    "print(7>=7)\n",
    "\n",
    "# less than equals to (<=)\n",
    "print(4<=-10)"
   ]
  },
  {
   "cell_type": "code",
   "execution_count": 7,
   "metadata": {},
   "outputs": [
    {
     "name": "stdout",
     "output_type": "stream",
     "text": [
      "13\n",
      "16\n",
      "12\n",
      "24\n",
      "12.0\n",
      "2.0\n",
      "4.0\n",
      "0.0\n"
     ]
    }
   ],
   "source": [
    "# Assignment Operators\n",
    "# used to asign values to variables\n",
    "\n",
    "# =\n",
    "b = 10+3\n",
    "print(b)\n",
    "\n",
    "# +=\n",
    "b += 3\n",
    "print(b)\n",
    "\n",
    "# -=\n",
    "b -= 4\n",
    "print(b)\n",
    "\n",
    "# *=\n",
    "b*=2\n",
    "print(b)\n",
    "\n",
    "# /=\n",
    "b /= 2\n",
    "print(b)\n",
    "\n",
    "# %=\n",
    "b %= 5\n",
    "print(b)\n",
    "\n",
    "# **=\n",
    "b **= 2\n",
    "print(b)\n",
    "\n",
    "# //=\n",
    "b //= 5\n",
    "print(b)"
   ]
  },
  {
   "cell_type": "code",
   "execution_count": 3,
   "metadata": {},
   "outputs": [
    {
     "name": "stdout",
     "output_type": "stream",
     "text": [
      "False\n",
      "False\n",
      "True\n",
      "True\n",
      "False\n"
     ]
    }
   ],
   "source": [
    "# Logical Operators (+ some use of bitwise operator)\n",
    "# used to combine conditional statement\n",
    "\n",
    "a = True\n",
    "b = False\n",
    "\n",
    "# Logical AND\n",
    "print (a and b)\n",
    "print (a&b) #using bitwise\n",
    "\n",
    "# Logical OR\n",
    "print(a or b)\n",
    "print (a|b) #using bitwise\n",
    "\n",
    "# Logical NOT\n",
    "print(not a)"
   ]
  },
  {
   "cell_type": "code",
   "execution_count": 12,
   "metadata": {},
   "outputs": [
    {
     "name": "stdout",
     "output_type": "stream",
     "text": [
      "True\n",
      "True\n"
     ]
    }
   ],
   "source": [
    "# Membership Operators\n",
    "# used to test if a sequence is presented in an object\n",
    "\n",
    "a_list = [1,3,4,5,6]\n",
    "print(3 in a_list)\n",
    "print(10 not in a_list)"
   ]
  },
  {
   "cell_type": "code",
   "execution_count": 15,
   "metadata": {},
   "outputs": [
    {
     "name": "stdout",
     "output_type": "stream",
     "text": [
      "True\n",
      "True\n",
      "False\n",
      "True\n"
     ]
    },
    {
     "name": "stderr",
     "output_type": "stream",
     "text": [
      "<>:4: SyntaxWarning: \"is not\" with a literal. Did you mean \"!=\"?\n",
      "<>:5: SyntaxWarning: \"is\" with a literal. Did you mean \"==\"?\n",
      "<>:4: SyntaxWarning: \"is not\" with a literal. Did you mean \"!=\"?\n",
      "<>:5: SyntaxWarning: \"is\" with a literal. Did you mean \"==\"?\n",
      "C:\\Users\\abrar\\AppData\\Local\\Temp\\ipykernel_11636\\104138618.py:4: SyntaxWarning: \"is not\" with a literal. Did you mean \"!=\"?\n",
      "  print(10 is not 3)\n",
      "C:\\Users\\abrar\\AppData\\Local\\Temp\\ipykernel_11636\\104138618.py:5: SyntaxWarning: \"is\" with a literal. Did you mean \"==\"?\n",
      "  print(2 is 2)\n"
     ]
    }
   ],
   "source": [
    "# Identity Operators\n",
    "# used to compare the object, not if they are equal, but if they are actually the same object, with the same memory location\n",
    "\n",
    "print(10 is not 3)\n",
    "print(2 is 2)\n",
    "\n",
    "a_list = [1,2,3]\n",
    "print([1,2,3] is [1,2,3])\n",
    "print(a_list is a_list)"
   ]
  },
  {
   "cell_type": "markdown",
   "metadata": {},
   "source": [
    "# If Statement\n",
    "\n",
    "We can use logical conditions with an if statement, it will run the code below the statement if the conditions are met.\n",
    "We can also use logical operators like **and**, **or**, **not**."
   ]
  },
  {
   "cell_type": "code",
   "execution_count": 1,
   "metadata": {},
   "outputs": [
    {
     "name": "stdout",
     "output_type": "stream",
     "text": [
      "b is greater than a\n"
     ]
    }
   ],
   "source": [
    "a = 10\n",
    "b = 25\n",
    "\n",
    "if b > a:\n",
    "    print(\"b is greater than a\")"
   ]
  },
  {
   "cell_type": "code",
   "execution_count": 3,
   "metadata": {},
   "outputs": [
    {
     "name": "stdout",
     "output_type": "stream",
     "text": [
      "a is equal to b\n"
     ]
    }
   ],
   "source": [
    "# elif will run if the previous conditions were not true\n",
    "a = 25\n",
    "\n",
    "if a > b:\n",
    "    print(\"a greater than b\")\n",
    "elif a == b:\n",
    "    print(\"a is equal to b\")"
   ]
  },
  {
   "cell_type": "code",
   "execution_count": 5,
   "metadata": {},
   "outputs": [
    {
     "name": "stdout",
     "output_type": "stream",
     "text": [
      "b is greater than a\n"
     ]
    }
   ],
   "source": [
    "# else will cathces anything which isn't chaught by previous conditions\n",
    "\n",
    "a = 24\n",
    "b = 26\n",
    "\n",
    "if a > b:\n",
    "    print(\"a is greater than b\")\n",
    "elif a == b:\n",
    "    print(\"a is equal to b\")\n",
    "else:\n",
    "    print(\"b is greater than a\")"
   ]
  },
  {
   "cell_type": "code",
   "execution_count": 7,
   "metadata": {},
   "outputs": [
    {
     "name": "stdout",
     "output_type": "stream",
     "text": [
      "b is greater than a\n",
      "B\n"
     ]
    }
   ],
   "source": [
    "# we can write if statement in 1 line like this\n",
    "\n",
    "if a < b: print(\"b is greater than a\")\n",
    "\n",
    "# or with else\n",
    "\n",
    "print(\"A\") if a > b else print(\"=\") if a == b else print(\"B\")"
   ]
  },
  {
   "cell_type": "code",
   "execution_count": 4,
   "metadata": {},
   "outputs": [
    {
     "name": "stdout",
     "output_type": "stream",
     "text": [
      "He is an adult man\n"
     ]
    }
   ],
   "source": [
    "# nested if\n",
    "\n",
    "age = 20\n",
    "gender = \"man\"\n",
    "\n",
    "if age > 18:\n",
    "    if gender == \"man\":\n",
    "        print(\"He is an adult man\")\n",
    "    else:\n",
    "        print(\"She is an adult woman\")"
   ]
  },
  {
   "cell_type": "markdown",
   "metadata": {},
   "source": [
    "# Loops\n",
    "\n",
    "There are two loop commands in python:\n",
    "- while loops\n",
    "- for loops\n",
    "\n",
    "## While loops\n",
    "For while loops, it will execute a set of statements as long as the condition is true."
   ]
  },
  {
   "cell_type": "code",
   "execution_count": 1,
   "metadata": {},
   "outputs": [
    {
     "name": "stdout",
     "output_type": "stream",
     "text": [
      "1\n",
      "2\n",
      "3\n",
      "4\n",
      "5\n"
     ]
    }
   ],
   "source": [
    "i = 1\n",
    "\n",
    "while i <= 5:\n",
    "    print(i)\n",
    "    i += 1"
   ]
  },
  {
   "cell_type": "code",
   "execution_count": 3,
   "metadata": {},
   "outputs": [
    {
     "name": "stdout",
     "output_type": "stream",
     "text": [
      "1\n",
      "2\n",
      "3\n"
     ]
    }
   ],
   "source": [
    "# break statement, we can stop the loop with if statement when the condition is true\n",
    "i = 1\n",
    "\n",
    "while i <= 6:\n",
    "    print(i)\n",
    "    if i == 3: break\n",
    "    i += 1"
   ]
  },
  {
   "cell_type": "code",
   "execution_count": 10,
   "metadata": {},
   "outputs": [
    {
     "name": "stdout",
     "output_type": "stream",
     "text": [
      "1\n",
      "2\n",
      "3\n",
      "5\n",
      "6\n",
      "7\n"
     ]
    }
   ],
   "source": [
    "# continue statement, we can stop the current iteration and continue with the next\n",
    "\n",
    "i = 0\n",
    "while i < 7:\n",
    "    i += 1\n",
    "    if i == 4: continue\n",
    "    print(i)"
   ]
  },
  {
   "cell_type": "markdown",
   "metadata": {},
   "source": [
    "## For loops\n",
    "\n",
    "It is used for iterating over a sequence (list, tuple, dictionary, set, or string)"
   ]
  },
  {
   "cell_type": "code",
   "execution_count": 19,
   "metadata": {},
   "outputs": [
    {
     "name": "stdout",
     "output_type": "stream",
     "text": [
      "0\n",
      "1\n",
      "2\n",
      "3\n",
      "4\n"
     ]
    }
   ],
   "source": [
    "# basic for loop, it will exclude the value we input\n",
    "# add more use for range function\n",
    "\n",
    "for i in range(5):\n",
    "    print(i)"
   ]
  },
  {
   "cell_type": "code",
   "execution_count": 16,
   "metadata": {},
   "outputs": [
    {
     "name": "stdout",
     "output_type": "stream",
     "text": [
      "Telur\n",
      "Nasi\n",
      "Sosis\n",
      "Sayur\n"
     ]
    }
   ],
   "source": [
    "food = [\"Telur\", \"Nasi\", \"Sosis\", \"Sayur\"]\n",
    "\n",
    "for x in food:\n",
    "    print(x)"
   ]
  },
  {
   "cell_type": "code",
   "execution_count": 17,
   "metadata": {},
   "outputs": [
    {
     "name": "stdout",
     "output_type": "stream",
     "text": [
      "m\n",
      "a\n",
      "r\n",
      "t\n",
      "a\n",
      "b\n",
      "a\n",
      "k\n"
     ]
    }
   ],
   "source": [
    "for x in \"martabak\":\n",
    "    print(x)"
   ]
  },
  {
   "cell_type": "code",
   "execution_count": 22,
   "metadata": {},
   "outputs": [
    {
     "name": "stdout",
     "output_type": "stream",
     "text": [
      "red apple\n",
      "red banana\n",
      "red cherry\n",
      "big apple\n",
      "big banana\n",
      "big cherry\n",
      "tasty apple\n",
      "tasty banana\n",
      "tasty cherry\n"
     ]
    }
   ],
   "source": [
    "# nested loops\n",
    "\n",
    "adj = [\"red\", \"big\", \"tasty\"]\n",
    "fruits = [\"apple\", \"banana\", \"cherry\"]\n",
    "\n",
    "for x in adj:\n",
    "    for y in fruits:\n",
    "        print(x + \" \" + y)"
   ]
  },
  {
   "cell_type": "markdown",
   "metadata": {},
   "source": [
    "# Function"
   ]
  },
  {
   "cell_type": "code",
   "execution_count": 17,
   "metadata": {},
   "outputs": [
    {
     "name": "stdout",
     "output_type": "stream",
     "text": [
      "Hello, Good morning\n"
     ]
    }
   ],
   "source": [
    "# Basic function\n",
    "\n",
    "def greetings():\n",
    "    print(\"Hello, Good morning\")\n",
    "\n",
    "greetings()"
   ]
  },
  {
   "cell_type": "code",
   "execution_count": 18,
   "metadata": {},
   "outputs": [
    {
     "name": "stdout",
     "output_type": "stream",
     "text": [
      "Hello, Good moring John\n"
     ]
    }
   ],
   "source": [
    "# Function with argument/parameter\n",
    "\n",
    "def greetings(name):\n",
    "    print(f\"Hello, Good moring {name}\")\n",
    "\n",
    "greetings(\"John\")"
   ]
  },
  {
   "cell_type": "code",
   "execution_count": 19,
   "metadata": {},
   "outputs": [
    {
     "name": "stdout",
     "output_type": "stream",
     "text": [
      "My name is John Adam\n",
      "My name is John Adam\n"
     ]
    }
   ],
   "source": [
    "# Multiple argument\n",
    "\n",
    "def myName(fname, lname):\n",
    "    print(f\"My name is {fname} {lname}\")\n",
    "\n",
    "myName(\"John\", \"Adam\")\n",
    "myName(lname=\"Adam\", fname=\"John\")      # or you can send arguments with key=value like this"
   ]
  },
  {
   "cell_type": "code",
   "execution_count": 23,
   "metadata": {},
   "outputs": [
    {
     "data": {
      "text/plain": [
       "12"
      ]
     },
     "execution_count": 23,
     "metadata": {},
     "output_type": "execute_result"
    }
   ],
   "source": [
    "# Function with return\n",
    "\n",
    "def multiplication(a, b):\n",
    "    return a*b\n",
    "\n",
    "multiplication(4, 3)"
   ]
  },
  {
   "cell_type": "code",
   "execution_count": null,
   "metadata": {},
   "outputs": [],
   "source": []
  }
 ],
 "metadata": {
  "kernelspec": {
   "display_name": "Python 3",
   "language": "python",
   "name": "python3"
  },
  "language_info": {
   "codemirror_mode": {
    "name": "ipython",
    "version": 3
   },
   "file_extension": ".py",
   "mimetype": "text/x-python",
   "name": "python",
   "nbconvert_exporter": "python",
   "pygments_lexer": "ipython3",
   "version": "3.11.1"
  }
 },
 "nbformat": 4,
 "nbformat_minor": 2
}
